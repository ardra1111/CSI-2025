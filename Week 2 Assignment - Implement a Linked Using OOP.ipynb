{
 "cells": [
  {
   "cell_type": "code",
   "execution_count": 1,
   "id": "cee4c06a-7f55-4853-8458-17a9663ef5d4",
   "metadata": {},
   "outputs": [],
   "source": [
    "class Node:\n",
    "    def __init__(self, data):\n",
    "        self.data = data\n",
    "        self.next = None"
   ]
  },
  {
   "cell_type": "code",
   "execution_count": 2,
   "id": "67cb77bb-e61e-48e2-a98c-026159f03cb6",
   "metadata": {},
   "outputs": [],
   "source": [
    "class LinkedList:\n",
    "    def __init__(self):\n",
    "        self.head = None\n",
    "    def add_node(self, data):\n",
    "        new_node = Node(data)\n",
    "        if not self.head:\n",
    "            self.head = new_node\n",
    "            return\n",
    "        last = self.head\n",
    "        while last.next:\n",
    "            last = last.next\n",
    "        last.next = new_node\n",
    "\n",
    "    def print_list(self):\n",
    "        current = self.head\n",
    "        if not current:\n",
    "            print(\"List is empty\")\n",
    "            return\n",
    "        nodes = []\n",
    "        while current:\n",
    "            nodes.append(str(current.data))\n",
    "            current = current.next\n",
    "        print(\" -> \".join(nodes))\n",
    "        \n",
    "    def delete_nth_node(self, n):\n",
    "        if not self.head:\n",
    "            raise Exception(\"Cannot delete from an empty list\")\n",
    "        if n <= 0:\n",
    "            raise Exception(\"Index must be 1 or greater\")\n",
    "\n",
    "        current = self.head\n",
    "\n",
    "        if n == 1:\n",
    "            self.head = current.next\n",
    "            return\n",
    "        for i in range(n - 2):\n",
    "            if current.next is None:\n",
    "                raise Exception(\"Index out of range\")\n",
    "            current = current.next\n",
    "\n",
    "        if current.next is None:\n",
    "            raise Exception(\"Index out of range\")\n",
    "\n",
    "        current.next = current.next.next"
   ]
  },
  {
   "cell_type": "code",
   "execution_count": 3,
   "id": "f65346a3-8fd7-4dba-8ebf-c256a6c8a21f",
   "metadata": {},
   "outputs": [
    {
     "name": "stdout",
     "output_type": "stream",
     "text": [
      "Original List:\n",
      "10 -> 20 -> 30 -> 40 -> 50\n",
      "\n",
      "List after deleting the 3rd node:\n",
      "10 -> 20 -> 40 -> 50\n",
      "\n",
      "List after deleting the 1st node:\n",
      "20 -> 40 -> 50\n",
      "\n",
      "Error: Index out of range\n",
      "\n",
      "Error: Cannot delete from an empty list\n"
     ]
    }
   ],
   "source": [
    "ll = LinkedList()\n",
    "for value in [10, 20, 30, 40, 50]:\n",
    "    ll.add_node(value)\n",
    "print(\"Original List:\")\n",
    "ll.print_list()\n",
    "\n",
    "try:\n",
    "    ll.delete_nth_node(3)\n",
    "    print(\"\\nList after deleting the 3rd node:\")\n",
    "    ll.print_list()\n",
    "    \n",
    "except Exception as e:\n",
    "    print(\"Error:\", e)\n",
    "\n",
    "try:\n",
    "    ll.delete_nth_node(1)\n",
    "    print(\"\\nList after deleting the 1st node:\")\n",
    "    ll.print_list()\n",
    "except Exception as e:\n",
    "    print(\"Error:\", e)\n",
    "\n",
    "try:\n",
    "    ll.delete_nth_node(10)\n",
    "except Exception as e:\n",
    "    print(\"\\nError:\", e)\n",
    "    \n",
    "try:\n",
    "    ll.delete_nth_node(1)\n",
    "    ll.delete_nth_node(1)\n",
    "    ll.delete_nth_node(1)\n",
    "    ll.delete_nth_node(1)  \n",
    "except Exception as e:\n",
    "    print(\"\\nError:\", e)\n"
   ]
  },
  {
   "cell_type": "code",
   "execution_count": 4,
   "id": "e6e2f751-bc99-4ace-bc42-cc5ac36cac24",
   "metadata": {},
   "outputs": [
    {
     "name": "stdout",
     "output_type": "stream",
     "text": [
      "New List:\n",
      "5 -> 15 -> 25 -> 35 -> 45\n",
      "\n",
      "List after deleting the last node:\n",
      "5 -> 15 -> 25 -> 35\n",
      "\n",
      "List after deleting the 2nd node:\n",
      "5 -> 25 -> 35\n"
     ]
    }
   ],
   "source": [
    "ll2 = LinkedList()\n",
    "for val in [5, 15, 25, 35, 45]:\n",
    "    ll2.add_node(val)\n",
    "\n",
    "print(\"New List:\")\n",
    "ll2.print_list()\n",
    "try:\n",
    "    ll2.delete_nth_node(5)\n",
    "    print(\"\\nList after deleting the last node:\")\n",
    "    ll2.print_list()\n",
    "except Exception as e:\n",
    "    print(\"Error:\", e)\n",
    "try:\n",
    "    ll2.delete_nth_node(2)\n",
    "    print(\"\\nList after deleting the 2nd node:\")\n",
    "    ll2.print_list()\n",
    "except Exception as e:\n",
    "    print(\"Error:\", e)\n"
   ]
  }
 ],
 "metadata": {
  "kernelspec": {
   "display_name": "Python 3 (ipykernel)",
   "language": "python",
   "name": "python3"
  },
  "language_info": {
   "codemirror_mode": {
    "name": "ipython",
    "version": 3
   },
   "file_extension": ".py",
   "mimetype": "text/x-python",
   "name": "python",
   "nbconvert_exporter": "python",
   "pygments_lexer": "ipython3",
   "version": "3.12.3"
  }
 },
 "nbformat": 4,
 "nbformat_minor": 5
}
