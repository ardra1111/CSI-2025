{
 "cells": [
  {
   "cell_type": "markdown",
   "id": "b3962948-cf15-4dbf-9ba3-679585ec3515",
   "metadata": {},
   "source": [
    "**Create lower triangular, upper triangular and pyramid containing the \"*\" character.**"
   ]
  },
  {
   "cell_type": "code",
   "execution_count": 1,
   "id": "2297b930-a444-46fe-8df4-812f2a979cb0",
   "metadata": {},
   "outputs": [
    {
     "name": "stdout",
     "output_type": "stream",
     "text": [
      "Lower Triangular Pattern:\n",
      "\n",
      "\n",
      "*\n",
      "**\n",
      "***\n",
      "****\n",
      "*****\n",
      "******\n",
      "*******\n",
      "********\n",
      "*********\n",
      "**********\n",
      "\n",
      "\n",
      "\n",
      "Upper Triangular Pattern:\n",
      "\n",
      "\n",
      "**********\n",
      "*********\n",
      "********\n",
      "*******\n",
      "******\n",
      "*****\n",
      "****\n",
      "***\n",
      "**\n",
      "*\n",
      "\n",
      "\n",
      "\n",
      " Pyramid Pattern:\n",
      "\n",
      "\n",
      "    *\n",
      "   ***\n",
      "  *****\n",
      " *******\n",
      "*********\n"
     ]
    }
   ],
   "source": [
    "n = 10\n",
    "\n",
    "print(\"Lower Triangular Pattern:\")\n",
    "print(\"\\n\")\n",
    "for i in range(1, n + 1):\n",
    "    print(\"*\" * i)\n",
    "print(\"\\n\")\n",
    "\n",
    "print(\"\\nUpper Triangular Pattern:\")\n",
    "print(\"\\n\")\n",
    "for i in range(n, 0, -1):\n",
    "    print(\"*\" * i)\n",
    "print(\"\\n\")\n",
    "\n",
    "print(\"\\n Pyramid Pattern:\")\n",
    "print(\"\\n\")\n",
    "for i in range(1, n + 1):\n",
    "    if i % 2 != 0:\n",
    "        a = \"*\" * i\n",
    "        print(\" \" * ((n - i) // 2) + a)"
   ]
  }
 ],
 "metadata": {
  "kernelspec": {
   "display_name": "Python 3 (ipykernel)",
   "language": "python",
   "name": "python3"
  },
  "language_info": {
   "codemirror_mode": {
    "name": "ipython",
    "version": 3
   },
   "file_extension": ".py",
   "mimetype": "text/x-python",
   "name": "python",
   "nbconvert_exporter": "python",
   "pygments_lexer": "ipython3",
   "version": "3.12.3"
  }
 },
 "nbformat": 4,
 "nbformat_minor": 5
}
