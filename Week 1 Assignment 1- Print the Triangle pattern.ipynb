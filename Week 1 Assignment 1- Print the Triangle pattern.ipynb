{
 "cells": [
  {
   "cell_type": "markdown",
   "id": "b3962948-cf15-4dbf-9ba3-679585ec3515",
   "metadata": {},
   "source": [
    "**Create lower triangular, upper triangular and pyramid containing the \"*\" character.**"
   ]
  },
  {
   "cell_type": "code",
   "execution_count": 1,
   "id": "6870eaeb-89cf-45c6-bdb3-cf1864da785f",
   "metadata": {},
   "outputs": [
    {
     "name": "stdout",
     "output_type": "stream",
     "text": [
      "Lower Triangular Pattern:\n",
      "\n",
      "\n",
      "*\n",
      "**\n",
      "***\n",
      "****\n",
      "*****\n",
      "******\n"
     ]
    }
   ],
   "source": [
    "n=6\n",
    "print(\"Lower Triangular Pattern:\")\n",
    "print(\"\\n\")\n",
    "for i in range(1, n + 1):\n",
    "    print(\"*\" * i)"
   ]
  },
  {
   "cell_type": "code",
   "execution_count": 2,
   "id": "f1be167f-751d-4485-b8d5-8e618715d680",
   "metadata": {},
   "outputs": [
    {
     "name": "stdout",
     "output_type": "stream",
     "text": [
      "\n",
      "Upper Triangular Pattern:\n",
      "\n",
      "\n",
      "******\n",
      "*****\n",
      "****\n",
      "***\n",
      "**\n",
      "*\n"
     ]
    }
   ],
   "source": [
    "n=6\n",
    "print(\"\\nUpper Triangular Pattern:\")\n",
    "print(\"\\n\")\n",
    "for i in range(n, 0, -1):\n",
    "    print(\"*\" * i)"
   ]
  },
  {
   "cell_type": "code",
   "execution_count": 3,
   "id": "d5b15456-64a1-4624-b5ff-98b903ec3701",
   "metadata": {},
   "outputs": [
    {
     "name": "stdout",
     "output_type": "stream",
     "text": [
      "\n",
      " Pyramid Pattern:\n",
      "\n",
      "\n",
      "    *\n",
      "   ***\n",
      "  *****\n",
      " *******\n",
      "*********\n"
     ]
    }
   ],
   "source": [
    "n=10\n",
    "print(\"\\n Pyramid Pattern:\")\n",
    "print(\"\\n\")\n",
    "for i in range(1, n + 1):\n",
    "    if i % 2 != 0:\n",
    "        a = \"*\" * i\n",
    "        print(\" \" * ((n - i) // 2) + a)"
   ]
  }
 ],
 "metadata": {
  "kernelspec": {
   "display_name": "Python 3 (ipykernel)",
   "language": "python",
   "name": "python3"
  },
  "language_info": {
   "codemirror_mode": {
    "name": "ipython",
    "version": 3
   },
   "file_extension": ".py",
   "mimetype": "text/x-python",
   "name": "python",
   "nbconvert_exporter": "python",
   "pygments_lexer": "ipython3",
   "version": "3.12.3"
  }
 },
 "nbformat": 4,
 "nbformat_minor": 5
}
